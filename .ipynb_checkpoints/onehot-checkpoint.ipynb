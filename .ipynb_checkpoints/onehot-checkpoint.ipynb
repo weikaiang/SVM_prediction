{
 "cells": [
  {
   "cell_type": "code",
   "execution_count": 2,
   "metadata": {},
   "outputs": [],
   "source": [
    "from sklearn.preprocessing import OneHotEncoder\n",
    "import pandas as pd\n",
    "import numpy as np"
   ]
  },
  {
   "cell_type": "code",
   "execution_count": 3,
   "metadata": {},
   "outputs": [],
   "source": [
    "#import data\n",
    "file_name = 'C:\\\\Users\\\\\\86180\\\\Desktop\\\\onehot.xlsx'\n",
    "#df = pd.DataFrame(pd.read_csv('file_name',header=1))\n",
    "#df = pd.DataFrame(pd.read_excel('C:\\Users\\86180\\Desktop\\onehot.xlsx',sheet_name=[0,1,''],header = 1))\n",
    "df = pd.DataFrame(pd.read_excel(file_name ,sheet_name=0,header = 1))\n",
    "#type the data\n",
    "#data = {'degree':['master','master','PHD'],'grade':['A', 'B', 'C']}\n",
    "#df = pd.DataFrame(data)\n"
   ]
  },
  {
   "cell_type": "code",
   "execution_count": 4,
   "metadata": {},
   "outputs": [
    {
     "data": {
      "text/plain": [
       "OneHotEncoder()"
      ]
     },
     "execution_count": 4,
     "metadata": {},
     "output_type": "execute_result"
    }
   ],
   "source": [
    "# 拟合模型\n",
    "enc = OneHotEncoder()\n",
    "enc.fit(df)"
   ]
  },
  {
   "cell_type": "code",
   "execution_count": 5,
   "metadata": {},
   "outputs": [
    {
     "data": {
      "text/plain": [
       "[array([1, 2, 3, 4], dtype=int64),\n",
       " array(['中央国有企业', '公众企业', '地方国有企业', '外资企业', '民营企业', '集体企业'], dtype=object),\n",
       " array([  2,   4,   6,   7,   9,  10,  11,  12,  14,  15,  17,  19,  20,\n",
       "         21,  22,  23,  24,  25,  26,  27,  28,  29,  30,  31,  32,  33,\n",
       "         34,  37,  40,  42,  43,  44,  45,  47,  49,  50,  51,  52,  53,\n",
       "         55,  56,  57,  59,  60,  61,  62,  63,  64,  65,  66,  70,  72,\n",
       "         76,  77,  79,  85,  89,  90,  91,  93,  94,  95,  98,  99, 100,\n",
       "        101, 102, 103, 104, 105, 106, 107, 109, 112, 113, 114, 115, 116,\n",
       "        117, 118, 119, 123, 124, 125, 126, 129, 130, 131], dtype=int64),\n",
       " array(['世纪证券有限责任公司', '东兴证券股份有限公司', '东北证券股份有限公司', '东吴证券股份有限公司',\n",
       "        '东方证券承销保荐有限公司', '东莞证券股份有限公司', '中信建投证券股份有限公司',\n",
       "        '中信建投证券股份有限公司,中信证券股份有限公司', '中信证券股份有限公司', '中信证券股份有限公司,中航证券有限公司',\n",
       "        '中信证券股份有限公司,华泰联合证券有限责任公司', '中信证券股份有限公司,第一创业证券承销保荐有限责任公司',\n",
       "        '中原证券股份有限公司', '中国国际金融股份有限公司', '中国银河证券股份有限公司', '中天国富证券有限公司',\n",
       "        '中德证券有限责任公司', '中泰证券股份有限公司', '中航证券有限公司', '中航证券有限公司,国泰君安证券股份有限公司',\n",
       "        '中航证券有限公司,招商证券股份有限公司', '中邮证券有限责任公司', '五矿证券有限公司', '光大证券股份有限公司',\n",
       "        '兴业证券股份有限公司', '华兴证券有限公司', '华创证券有限责任公司',\n",
       "        '华创证券有限责任公司,第一创业证券承销保荐有限责任公司', '华林证券股份有限公司', '华泰联合证券有限责任公司',\n",
       "        '华英证券有限责任公司', '华西证券股份有限公司', '华金证券股份有限公司',\n",
       "        '华金证券股份有限公司,国泰君安证券股份有限公司', '华龙证券股份有限公司', '国信证券股份有限公司',\n",
       "        '国元证券股份有限公司', '国开证券股份有限公司', '国新证券股份有限公司', '国泰君安证券股份有限公司',\n",
       "        '国海证券股份有限公司', '国盛证券有限责任公司', '国金证券股份有限公司', '天风证券股份有限公司',\n",
       "        '太平洋证券股份有限公司', '安信证券股份有限公司', '宏信证券有限责任公司', '川财证券有限责任公司',\n",
       "        '平安证券股份有限公司', '广发证券股份有限公司', '招商证券股份有限公司', '方正证券承销保荐有限责任公司',\n",
       "        '民生证券股份有限公司', '浙商证券股份有限公司', '海通证券股份有限公司', '渤海证券股份有限公司',\n",
       "        '瑞信证券(中国)有限公司', '申万宏源证券承销保荐有限责任公司', '申港证券股份有限公司',\n",
       "        '第一创业证券承销保荐有限责任公司', '西南证券股份有限公司', '西部证券股份有限公司', '财通证券股份有限公司',\n",
       "        '长城证券股份有限公司', '长江证券承销保荐有限公司'], dtype=object)]"
      ]
     },
     "execution_count": 5,
     "metadata": {},
     "output_type": "execute_result"
    }
   ],
   "source": [
    "# show different sorts of features展示原始每个特征的不同种类\n",
    "enc.categories_\n",
    "# like [array(['PHD', 'master'], dtype=object), array(['A', 'B', 'C'], dtype=object)]"
   ]
  },
  {
   "cell_type": "code",
   "execution_count": 6,
   "metadata": {},
   "outputs": [
    {
     "name": "stdout",
     "output_type": "stream",
     "text": [
      "  (0, 2)\t1.0\n",
      "  (0, 8)\t1.0\n",
      "  (0, 75)\t1.0\n",
      "  (0, 104)\t1.0\n",
      "  (1, 3)\t1.0\n",
      "  (1, 8)\t1.0\n",
      "  (1, 30)\t1.0\n",
      "  (1, 133)\t1.0\n",
      "  (2, 1)\t1.0\n",
      "  (2, 6)\t1.0\n",
      "  (2, 33)\t1.0\n",
      "  (2, 106)\t1.0\n",
      "  (3, 3)\t1.0\n",
      "  (3, 5)\t1.0\n",
      "  (3, 42)\t1.0\n",
      "  (3, 106)\t1.0\n",
      "  (4, 1)\t1.0\n",
      "  (4, 8)\t1.0\n",
      "  (4, 73)\t1.0\n",
      "  (4, 111)\t1.0\n",
      "  (5, 3)\t1.0\n",
      "  (5, 5)\t1.0\n",
      "  (5, 28)\t1.0\n",
      "  (5, 155)\t1.0\n",
      "  (6, 3)\t1.0\n",
      "  :\t:\n",
      "  (409, 148)\t1.0\n",
      "  (410, 2)\t1.0\n",
      "  (410, 8)\t1.0\n",
      "  (410, 69)\t1.0\n",
      "  (410, 142)\t1.0\n",
      "  (411, 3)\t1.0\n",
      "  (411, 6)\t1.0\n",
      "  (411, 55)\t1.0\n",
      "  (411, 115)\t1.0\n",
      "  (412, 2)\t1.0\n",
      "  (412, 8)\t1.0\n",
      "  (412, 73)\t1.0\n",
      "  (412, 104)\t1.0\n",
      "  (413, 2)\t1.0\n",
      "  (413, 8)\t1.0\n",
      "  (413, 39)\t1.0\n",
      "  (413, 112)\t1.0\n",
      "  (414, 2)\t1.0\n",
      "  (414, 4)\t1.0\n",
      "  (414, 21)\t1.0\n",
      "  (414, 137)\t1.0\n",
      "  (415, 1)\t1.0\n",
      "  (415, 8)\t1.0\n",
      "  (415, 81)\t1.0\n",
      "  (415, 127)\t1.0\n",
      "[[0. 0. 1. ... 0. 0. 0.]\n",
      " [0. 0. 0. ... 0. 0. 0.]\n",
      " [0. 1. 0. ... 0. 0. 0.]\n",
      " ...\n",
      " [0. 0. 1. ... 0. 0. 0.]\n",
      " [0. 0. 1. ... 0. 0. 0.]\n",
      " [0. 1. 0. ... 0. 0. 0.]]\n"
     ]
    },
    {
     "data": {
      "text/plain": [
       "'\\n[[0. 1. 1. 0. 0.]\\n [0. 1. 0. 1. 0.]\\n [1. 0. 0. 0. 1.]]\\n'"
      ]
     },
     "execution_count": 6,
     "metadata": {},
     "output_type": "execute_result"
    }
   ],
   "source": [
    "# 输出稀疏矩阵，指出矩阵中1的坐标位置，其余位置为 0。\n",
    "print(enc.transform(df))\n",
    "\"\"\"\n",
    "  (0, 1)\t1.0\n",
    "  (0, 2)\t1.0\n",
    "  (1, 1)\t1.0\n",
    "  (1, 3)\t1.0\n",
    "  (2, 0)\t1.0\n",
    "  (2, 4)\t1.0\n",
    "\"\"\"\n",
    "\n",
    "# 加上toarray()转换为数组形式，直观的结果，类似与 get_dummy()\n",
    "print(enc.transform(df).toarray())\n",
    "\"\"\"\n",
    "[[0. 1. 1. 0. 0.]\n",
    " [0. 1. 0. 1. 0.]\n",
    " [1. 0. 0. 0. 1.]]\n",
    "\"\"\"\n"
   ]
  },
  {
   "cell_type": "code",
   "execution_count": 11,
   "metadata": {},
   "outputs": [
    {
     "data": {
      "text/plain": [
       "(416, 163)"
      ]
     },
     "execution_count": 11,
     "metadata": {},
     "output_type": "execute_result"
    }
   ],
   "source": [
    "np.shape(enc.transform(df))\n"
   ]
  },
  {
   "cell_type": "code",
   "execution_count": 6,
   "metadata": {},
   "outputs": [
    {
     "name": "stdout",
     "output_type": "stream",
     "text": [
      "  (0, 1)\t1.0\n",
      "  (0, 4)\t1.0\n"
     ]
    },
    {
     "data": {
      "text/plain": [
       "'\\n[[0. 1. 0. 0. 1.]]\\n'"
      ]
     },
     "execution_count": 6,
     "metadata": {},
     "output_type": "execute_result"
    }
   ],
   "source": [
    "#train\n",
    "da1 = {'degree':['master'],'grade':['C']}\n",
    "dd1 = pd.DataFrame(da1)\n",
    "print(enc.transform(dd1))\n",
    "\"\"\"\n",
    "[[0. 1. 0. 0. 1.]]\n",
    "\"\"\"\n"
   ]
  },
  {
   "cell_type": "code",
   "execution_count": 14,
   "metadata": {},
   "outputs": [
    {
     "data": {
      "text/plain": [
       "numpy.ndarray"
      ]
     },
     "execution_count": 14,
     "metadata": {},
     "output_type": "execute_result"
    }
   ],
   "source": [
    "type(enc.transform(df).toarray())"
   ]
  },
  {
   "cell_type": "code",
   "execution_count": null,
   "metadata": {},
   "outputs": [],
   "source": []
  }
 ],
 "metadata": {
  "kernelspec": {
   "display_name": "Python 3",
   "language": "python",
   "name": "python3"
  },
  "language_info": {
   "codemirror_mode": {
    "name": "ipython",
    "version": 3
   },
   "file_extension": ".py",
   "mimetype": "text/x-python",
   "name": "python",
   "nbconvert_exporter": "python",
   "pygments_lexer": "ipython3",
   "version": "3.6.5"
  }
 },
 "nbformat": 4,
 "nbformat_minor": 2
}
